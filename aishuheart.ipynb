{
  "nbformat": 4,
  "nbformat_minor": 0,
  "metadata": {
    "colab": {
      "provenance": [],
      "collapsed_sections": [],
      "authorship_tag": "ABX9TyMsjDC1MjpV2kQdJF3yJU7D",
      "include_colab_link": true
    },
    "kernelspec": {
      "name": "python3",
      "display_name": "Python 3"
    },
    "language_info": {
      "name": "python"
    }
  },
  "cells": [
    {
      "cell_type": "markdown",
      "metadata": {
        "id": "view-in-github",
        "colab_type": "text"
      },
      "source": [
        "<a href=\"https://colab.research.google.com/github/VELAMURI-AISHWARYA/heartpattern/blob/main/aishuheart.ipynb\" target=\"_parent\"><img src=\"https://colab.research.google.com/assets/colab-badge.svg\" alt=\"Open In Colab\"/></a>"
      ]
    },
    {
      "cell_type": "code",
      "execution_count": 10,
      "metadata": {
        "colab": {
          "base_uri": "https://localhost:8080/"
        },
        "id": "UqvBo4fT-8tu",
        "outputId": "ef292619-f571-4c83-cf06-c3adb718dd6f"
      },
      "outputs": [
        {
          "output_type": "stream",
          "name": "stdout",
          "text": [
            "                                                            \n",
            "                                                            \n",
            "                                                            \n",
            "                uuAishuuu           shuuuuAis               \n",
            "            huuuuAishuuuuAish   uAishuuuuAishuuuu           \n",
            "          shuuuuAishuuuuAishuuuuAishuuuuAishuuuuAis         \n",
            "         shuuuuAishuuuuAishuuuuAishuuuuAishuuuuAishu        \n",
            "        shuuuuAishuuuuAishuuuuAishuuuuAishuuuuAishuuu       \n",
            "        huuuuAishuuuuAishuuuuAishuuuuAishuuuuAishuuuu       \n",
            "        uuuuAishuuuuAishuuuuAishuuuuAishuuuuAishuuuuA       \n",
            "        uuuAishuuuuAishuuuuAishuuuuAishuuuuAishuuuuAi       \n",
            "        uuAishuuuuAishuuuuAishuuuuAishuuuuAishuuuuAis       \n",
            "        uAishuuuuAishuuuuAishuuuuAishuuuuAishuuuuAish       \n",
            "         ishuuuuAishuuuuAishuuuuAishuuuuAishuuuuAish        \n",
            "          huuuuAishuuuuAishuuuuAishuuuuAishuuuuAish         \n",
            "          uuuuAishuuuuAishuuuuAishuuuuAishuuuuAishu         \n",
            "            uAishuuuuAishuuuuAishuuuuAishuuuuAish           \n",
            "             ishuuuuAishuuuuAishuuuuAishuuuuAish            \n",
            "              huuuuAishuuuuAishuuuuAishuuuuAish             \n",
            "                uuAishuuuuAishuuuuAishuuuuAis               \n",
            "                  ishuuuuAishuuuuAishuuuuAi                 \n",
            "                    uuuuAishuuuuAishuuuuA                   \n",
            "                       AishuuuuAishuuu                      \n",
            "                          uuuuAishu                         \n",
            "                             Ais                            \n",
            "                              s                             \n",
            "                                                            \n",
            "                                                            \n",
            "                                                            \n",
            "                                                            \n"
          ]
        }
      ],
      "source": [
        "print('\\n'.join \n",
        "      ([''.join\n",
        "        ([('Aishuuuu'[(x-y)%8]\n",
        "           if((x*0.05)**2+(y*0.1)**2-1)\n",
        "           **3-(x*0.05)**2*(y*0.1)\n",
        "           **3<=0 else' ')\n",
        "        for x in range(-30,30)])\n",
        "        for y in range(15,-15,-1)]))\n",
        "        "
      ]
    },
    {
      "cell_type": "markdown",
      "source": [],
      "metadata": {
        "id": "D5Y0g_OSGkGk"
      }
    }
  ]
}